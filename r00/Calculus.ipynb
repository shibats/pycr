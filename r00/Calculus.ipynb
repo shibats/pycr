{
 "cells": [
  {
   "cell_type": "markdown",
   "metadata": {},
   "source": [
    "# 積分は面積"
   ]
  },
  {
   "cell_type": "markdown",
   "metadata": {},
   "source": [
    "## 面積を求める"
   ]
  },
  {
   "cell_type": "code",
   "execution_count": null,
   "metadata": {},
   "outputs": [],
   "source": [
    "4*4  # 4×4の正方形"
   ]
  },
  {
   "cell_type": "code",
   "execution_count": null,
   "metadata": {},
   "outputs": [],
   "source": [
    "12*7 # 12×7の長方形"
   ]
  },
  {
   "cell_type": "markdown",
   "metadata": {},
   "source": [
    "いろんな面積を求めたい"
   ]
  },
  {
   "cell_type": "code",
   "execution_count": null,
   "metadata": {},
   "outputs": [],
   "source": [
    "# 変数を使う\n",
    "w = 12   # よこ(width)\n",
    "h =  7     # たて(height)\n",
    "\n",
    "w*h   # よこ×たて"
   ]
  },
  {
   "cell_type": "markdown",
   "metadata": {},
   "source": [
    "毎回入力するのが面倒くさい。つらい。"
   ]
  },
  {
   "cell_type": "code",
   "execution_count": null,
   "metadata": {},
   "outputs": [],
   "source": [
    "# 「関数」を作る (面積 : area)\n",
    "def a(w, h):\n",
    "    return w*h"
   ]
  },
  {
   "cell_type": "code",
   "execution_count": null,
   "metadata": {},
   "outputs": [],
   "source": [
    "# 「関数を使う」\n",
    "a(12, 7)"
   ]
  },
  {
   "cell_type": "markdown",
   "metadata": {},
   "source": [
    "楽になった！ 嬉しい！"
   ]
  },
  {
   "cell_type": "markdown",
   "metadata": {},
   "source": [
    "## 台形の面積"
   ]
  },
  {
   "cell_type": "markdown",
   "metadata": {},
   "source": [
    "(上底+下底)×高さ÷2 を計算すると，答えが「6」だが，公式はとりあえず無かったことにして...。"
   ]
  },
  {
   "cell_type": "code",
   "execution_count": null,
   "metadata": {},
   "outputs": [],
   "source": [
    "# 上底2，下底4，高さ2の台形\n",
    "\n",
    "import matplotlib.pyplot as plt\n",
    "plt.figure(figsize=(4, 4))\n",
    "plt.axis([0, 5, 0, 5])\n",
    "plt.plot([0, 4, 4, 2, 0], [0, 0, 2, 2, 0])"
   ]
  },
  {
   "cell_type": "code",
   "execution_count": null,
   "metadata": {},
   "outputs": [],
   "source": [
    "# これだと都合が悪いので回転(線対称)する\n",
    "# 形が同じなので面積は変わらない\n",
    "plt.figure(figsize=(4, 4))\n",
    "plt.axis([0, 5, 0, 5])\n",
    "plt.plot([0, 2, 2, 0, 0], [0, 0, 4, 2, 0])"
   ]
  },
  {
   "cell_type": "code",
   "execution_count": null,
   "metadata": {},
   "outputs": [],
   "source": [
    "# よこ×たて(2×4)だと正しい面積が計算できない\n",
    "a(2, 4)"
   ]
  },
  {
   "cell_type": "code",
   "execution_count": null,
   "metadata": {},
   "outputs": [],
   "source": [
    "# 左上の三角形が余計\n",
    "\n",
    "plt.figure(figsize=(4, 4))\n",
    "plt.axis([0, 5, 0, 5])\n",
    "plt.plot([0, 2, 2, 0, 0], [0, 0, 4, 2, 0])\n",
    "plt.plot([0, 2, 2, 0, 0], [0, 0, 4, 4, 0])"
   ]
  },
  {
   "cell_type": "code",
   "execution_count": null,
   "metadata": {},
   "outputs": [],
   "source": [
    "# 長方形を２つに分けると，少し「誤差」が縮まる\n",
    "plt.figure(figsize=(4, 4))\n",
    "plt.axis([0, 5, 0, 5])\n",
    "plt.plot([0, 2, 2, 0, 0], [0, 0, 4, 2, 0])\n",
    "plt.plot([0, 1, 1, 0, 0], [0, 0, 3, 3, 0])\n",
    "plt.plot([1, 2, 2, 1, 1], [0, 0, 4, 4, 0])"
   ]
  },
  {
   "cell_type": "code",
   "execution_count": null,
   "metadata": {},
   "outputs": [],
   "source": [
    "a(1, 3) # オレンジ部分"
   ]
  },
  {
   "cell_type": "code",
   "execution_count": null,
   "metadata": {},
   "outputs": [],
   "source": [
    "a(1, 4) # 緑部分"
   ]
  },
  {
   "cell_type": "code",
   "execution_count": null,
   "metadata": {},
   "outputs": [],
   "source": [
    "a(1, 3) + a(1, 4)  # 2つを加える"
   ]
  },
  {
   "cell_type": "code",
   "execution_count": null,
   "metadata": {},
   "outputs": [],
   "source": [
    "# ４つに分けると，さらに正しい答えに近づく\n",
    "a(0.5, 2.5) + a(0.5, 3) + a(0.5, 3.5) + a(0.5, 4)"
   ]
  },
  {
   "cell_type": "markdown",
   "metadata": {},
   "source": [
    "入力大変。面倒くさい。"
   ]
  },
  {
   "cell_type": "markdown",
   "metadata": {},
   "source": [
    "## 果てしなく分ける"
   ]
  },
  {
   "cell_type": "markdown",
   "metadata": {},
   "source": [
    "台形を長方形に分割するときの，「たて - よこ」の関係。\n",
    "\n",
    "a(0.1, 2.1) + a(0.1, 2.2) + ... a(0.1, 3.9) + a(0.1, 4)\n",
    "\n",
    "・「よこ」が1増えると「たて」が1増える\n",
    "\n",
    "・上の1は0.1や0.001に置き換えても同じ\n",
    "\n",
    "y = x+2 ( 0 <= x <= 2)"
   ]
  },
  {
   "cell_type": "code",
   "execution_count": null,
   "metadata": {},
   "outputs": [],
   "source": [
    "# たくさん関数や数字を入力するのは大変なので，繰り返し(ループ)を使う\n",
    "import numpy as np\n",
    "\n",
    "for x in np.arange(0, 2, 0.1):  # 0から2まで，0.1ずつ数字を増やしながら繰り返しを実行\n",
    "    print(x)  # 増えて行く数字を表示する"
   ]
  },
  {
   "cell_type": "code",
   "execution_count": null,
   "metadata": {},
   "outputs": [],
   "source": [
    "# 台形を分割した長方形の高さを計算する(y = x+2)\n",
    "\n",
    "for x in np.arange(0, 2, 0.1):\n",
    "    y = x+2\n",
    "    print(y)  # 「たて」を表示"
   ]
  },
  {
   "cell_type": "code",
   "execution_count": null,
   "metadata": {},
   "outputs": [],
   "source": [
    "# 台形を分割した長方形の面積を合計する\n",
    "z = 0  # 面積の合計を足して行く変数\n",
    "for x in np.arange(0, 2, 0.1):\n",
    "    y = x+2\n",
    "    z = z + a(0.1, y) # 面積を計算，合計に足す"
   ]
  },
  {
   "cell_type": "code",
   "execution_count": null,
   "metadata": {},
   "outputs": [],
   "source": [
    "z"
   ]
  },
  {
   "cell_type": "code",
   "execution_count": null,
   "metadata": {},
   "outputs": [],
   "source": [
    "# さらにたくさん分割する(1万分割)\n",
    "z = 0  # 面積の合計を足して行く変数\n",
    "for x in np.arange(0, 2, 0.0001):\n",
    "    y = x+2\n",
    "    z = z + a(0.0001, y) # 面積を計算，合計に足す"
   ]
  },
  {
   "cell_type": "code",
   "execution_count": null,
   "metadata": {},
   "outputs": [],
   "source": [
    "z"
   ]
  },
  {
   "cell_type": "markdown",
   "metadata": {},
   "source": [
    "## 半径1の円の面積"
   ]
  },
  {
   "cell_type": "markdown",
   "metadata": {},
   "source": [
    "$\n",
    "x^2 + y^2 = r^2\n",
    "$\n",
    "\n",
    "yの方程式にする(移項)\n",
    "\n",
    "$\n",
    "y^2 = r^2 - x^2\n",
    "$\n",
    "\n",
    "$\n",
    "y = \\sqrt{r^2 - x^2}\n",
    "$\n",
    "\n",
    "半径が1なので\n",
    "\n",
    "$\n",
    "y = \\sqrt{1 - x^2}\n",
    "$\n",
    "\n",
    "でyからxが求まる。\n",
    "\n",
    "x=0を円の左端にし，円のたての長さ(w)を求めたい。\n",
    "\n",
    "$\n",
    "w = 2\\sqrt{1 - (x-1)^2}\n",
    "$"
   ]
  },
  {
   "cell_type": "code",
   "execution_count": null,
   "metadata": {},
   "outputs": [],
   "source": [
    "# 半径1の円の面積(1万分割)\n",
    "\n",
    "z = 0  # 面積の合計を足して行く変数\n",
    "for x in np.arange(0, 2, 0.0001):\n",
    "    y = np.sqrt(1-(x-1)**2)*2\n",
    "    z = z + a(0.0001, y) # 面積を計算，合計に足す"
   ]
  },
  {
   "cell_type": "code",
   "execution_count": null,
   "metadata": {},
   "outputs": [],
   "source": [
    "z"
   ]
  },
  {
   "cell_type": "markdown",
   "metadata": {},
   "source": [
    "# 微分は増減"
   ]
  },
  {
   "cell_type": "markdown",
   "metadata": {},
   "source": [
    "## 面積最大化問題"
   ]
  },
  {
   "cell_type": "markdown",
   "metadata": {},
   "source": [
    "長さ20cmのロープを使って長方形をつくる。このとき，たて/よこの長さをどのようにとれば長方形の面積が最大になるか。"
   ]
  },
  {
   "cell_type": "code",
   "execution_count": null,
   "metadata": {},
   "outputs": [],
   "source": [
    "# たての長さが決まっているとき，横の長さが決まる\n",
    "# たて : 4 よこ : 6\n",
    "# たての長さを決めれば面積が決まる\n",
    "\n",
    "h = 4     # たての長さ\n",
    "w = 10-h # よこの長さ\n",
    "h*w  # 面積"
   ]
  },
  {
   "cell_type": "code",
   "execution_count": null,
   "metadata": {},
   "outputs": [],
   "source": [
    "# たての長さを与えて面積を計算する関数を作る(面倒なので)\n",
    "def a(h):\n",
    "    w = 10-h    # よこの長さ\n",
    "    return h*w # 面積を返す"
   ]
  },
  {
   "cell_type": "code",
   "execution_count": null,
   "metadata": {},
   "outputs": [],
   "source": [
    "a(8)  # たて : 8， よこ 2"
   ]
  },
  {
   "cell_type": "code",
   "execution_count": null,
   "metadata": {},
   "outputs": [],
   "source": [
    "a(5)  # たて : 5，よこ : 5"
   ]
  },
  {
   "cell_type": "code",
   "execution_count": null,
   "metadata": {},
   "outputs": [],
   "source": [
    "a(2)  # たて : 2，よこ : 8"
   ]
  },
  {
   "cell_type": "code",
   "execution_count": null,
   "metadata": {},
   "outputs": [],
   "source": [
    "# たての長さを変えて，結果を保存\n",
    "l = []   # 面積を保存する変数(リスト)\n",
    "for i in range(1, 10):  # 1から9まで繰り返し\n",
    "    r = a(i)\n",
    "    l += [r]"
   ]
  },
  {
   "cell_type": "code",
   "execution_count": null,
   "metadata": {},
   "outputs": [],
   "source": [
    "plt.plot(range(1, 10), l)  # 面積の増減をグラフにする"
   ]
  },
  {
   "cell_type": "code",
   "execution_count": null,
   "metadata": {},
   "outputs": [],
   "source": [
    "# 山の頂上を確かめるため，増減を調べる\n",
    "dl = []   # 増減を保存する変数(リスト)\n",
    "for i in range(0, 9):  # 0から8まで繰り返し\n",
    "    r1 = a(i) \n",
    "    r2 = a(i+1) # +1の面積\n",
    "    dl += [r2-r1]  #　増減を計算して保存"
   ]
  },
  {
   "cell_type": "code",
   "execution_count": null,
   "metadata": {},
   "outputs": [],
   "source": [
    "import pandas as pd\n",
    "pd.DataFrame([dl], columns=range(0, 9)) # 増減を表にして表示"
   ]
  },
  {
   "cell_type": "code",
   "execution_count": null,
   "metadata": {},
   "outputs": [],
   "source": [
    "# 細かく区切る\n",
    "dl = []   # 増減を保存する変数(リスト)\n",
    "delta = 0.1\n",
    "for i in np.arange(1, 10, delta):\n",
    "    r1 = a(i)\n",
    "    r2 = a(i+delta)\n",
    "    dl += [r2-r1]  #　増減を計算して保存"
   ]
  },
  {
   "cell_type": "code",
   "execution_count": null,
   "metadata": {},
   "outputs": [],
   "source": [
    "df = pd.DataFrame([dl], columns=np.arange(1, 10, delta)) # 増減を表にして表示"
   ]
  },
  {
   "cell_type": "code",
   "execution_count": null,
   "metadata": {},
   "outputs": [],
   "source": [
    "df"
   ]
  },
  {
   "cell_type": "code",
   "execution_count": null,
   "metadata": {},
   "outputs": [],
   "source": [
    "# データが多いので，ちょうど差が0に近づくところだけを抜き出して表示\n",
    "df.iloc[:, 30:45] "
   ]
  },
  {
   "cell_type": "code",
   "execution_count": null,
   "metadata": {},
   "outputs": [],
   "source": []
  }
 ],
 "metadata": {
  "kernelspec": {
   "display_name": "Python 3",
   "language": "python",
   "name": "python3"
  },
  "language_info": {
   "codemirror_mode": {
    "name": "ipython",
    "version": 3
   },
   "file_extension": ".py",
   "mimetype": "text/x-python",
   "name": "python",
   "nbconvert_exporter": "python",
   "pygments_lexer": "ipython3",
   "version": "3.7.3"
  }
 },
 "nbformat": 4,
 "nbformat_minor": 2
}
