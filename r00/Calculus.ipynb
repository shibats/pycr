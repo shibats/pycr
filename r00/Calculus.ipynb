{
 "cells": [
  {
   "cell_type": "markdown",
   "metadata": {},
   "source": [
    "# 積分は面積"
   ]
  },
  {
   "cell_type": "markdown",
   "metadata": {},
   "source": [
    "## 面積を求める"
   ]
  },
  {
   "cell_type": "code",
   "execution_count": 2,
   "metadata": {},
   "outputs": [
    {
     "data": {
      "text/plain": [
       "16"
      ]
     },
     "execution_count": 2,
     "metadata": {},
     "output_type": "execute_result"
    }
   ],
   "source": [
    "4*4  # 4×4の正方形"
   ]
  },
  {
   "cell_type": "code",
   "execution_count": 3,
   "metadata": {},
   "outputs": [
    {
     "data": {
      "text/plain": [
       "84"
      ]
     },
     "execution_count": 3,
     "metadata": {},
     "output_type": "execute_result"
    }
   ],
   "source": [
    "12*7 # 12×7の長方形"
   ]
  },
  {
   "cell_type": "markdown",
   "metadata": {},
   "source": [
    "いろんな面積を求めたい"
   ]
  },
  {
   "cell_type": "code",
   "execution_count": 10,
   "metadata": {},
   "outputs": [
    {
     "data": {
      "text/plain": [
       "84"
      ]
     },
     "execution_count": 10,
     "metadata": {},
     "output_type": "execute_result"
    }
   ],
   "source": [
    "# 変数を使う\n",
    "w = 12   # よこ(width)\n",
    "h =  7     # たて(height)\n",
    "\n",
    "w*h   # よこ×たて"
   ]
  },
  {
   "cell_type": "markdown",
   "metadata": {},
   "source": [
    "毎回入力するのが面倒くさい。つらい。"
   ]
  },
  {
   "cell_type": "code",
   "execution_count": 8,
   "metadata": {},
   "outputs": [],
   "source": [
    "# 「関数」を作る (面積 : area)\n",
    "def a(w, h):\n",
    "    return w*h"
   ]
  },
  {
   "cell_type": "code",
   "execution_count": 9,
   "metadata": {},
   "outputs": [
    {
     "data": {
      "text/plain": [
       "84"
      ]
     },
     "execution_count": 9,
     "metadata": {},
     "output_type": "execute_result"
    }
   ],
   "source": [
    "# 「関数を使う」\n",
    "a(12, 7)"
   ]
  },
  {
   "cell_type": "markdown",
   "metadata": {},
   "source": [
    "楽になった！ 嬉しい！"
   ]
  },
  {
   "cell_type": "markdown",
   "metadata": {},
   "source": [
    "## 台形の面積"
   ]
  },
  {
   "cell_type": "markdown",
   "metadata": {},
   "source": [
    "(上底+下底)×高さ÷2 を計算すると，答えが「6」だが，公式はとりあえず無かったことにして...。"
   ]
  },
  {
   "cell_type": "code",
   "execution_count": 32,
   "metadata": {},
   "outputs": [
    {
     "data": {
      "text/plain": [
       "[<matplotlib.lines.Line2D at 0x1155d5518>]"
      ]
     },
     "execution_count": 32,
     "metadata": {},
     "output_type": "execute_result"
    },
    {
     "data": {
      "image/png": "[encoded data removed]",
      "text/plain": [
       "<Figure size 288x288 with 1 Axes>"
      ]
     },
     "metadata": {
      "needs_background": "light"
     },
     "output_type": "display_data"
    }
   ],
   "source": [
    "# 上底2，下底4，高さ2の台形\n",
    "\n",
    "import matplotlib.pyplot as plt\n",
    "plt.figure(figsize=(4, 4))\n",
    "plt.axis([0, 5, 0, 5])\n",
    "plt.plot([0, 4, 4, 2, 0], [0, 0, 2, 2, 0])"
   ]
  },
  {
   "cell_type": "code",
   "execution_count": 33,
   "metadata": {},
   "outputs": [
    {
     "data": {
      "text/plain": [
       "[<matplotlib.lines.Line2D at 0x1156dc9e8>]"
      ]
     },
     "execution_count": 33,
     "metadata": {},
     "output_type": "execute_result"
    },
    {
     "data": {
      "image/png": "[encoded data removed]",
      "text/plain": [
       "<Figure size 288x288 with 1 Axes>"
      ]
     },
     "metadata": {
      "needs_background": "light"
     },
     "output_type": "display_data"
    }
   ],
   "source": [
    "# これだと都合が悪いので回転(線対称)する\n",
    "# 形が同じなので面積は変わらない\n",
    "plt.figure(figsize=(4, 4))\n",
    "plt.axis([0, 5, 0, 5])\n",
    "plt.plot([0, 2, 2, 0, 0], [0, 0, 4, 2, 0])"
   ]
  },
  {
   "cell_type": "code",
   "execution_count": 34,
   "metadata": {},
   "outputs": [
    {
     "data": {
      "text/plain": [
       "8"
      ]
     },
     "execution_count": 34,
     "metadata": {},
     "output_type": "execute_result"
    }
   ],
   "source": [
    "# よこ×たて(2×4)だと正しい面積が計算できない\n",
    "a(2, 4)"
   ]
  },
  {
   "cell_type": "code",
   "execution_count": 35,
   "metadata": {},
   "outputs": [
    {
     "data": {
      "text/plain": [
       "[<matplotlib.lines.Line2D at 0x11575b6a0>]"
      ]
     },
     "execution_count": 35,
     "metadata": {},
     "output_type": "execute_result"
    },
    {
     "data": {
      "image/png": "[encoded data removed]",
      "text/plain": [
       "<Figure size 288x288 with 1 Axes>"
      ]
     },
     "metadata": {
      "needs_background": "light"
     },
     "output_type": "display_data"
    }
   ],
   "source": [
    "# 左上の三角形が余計\n",
    "\n",
    "plt.figure(figsize=(4, 4))\n",
    "plt.axis([0, 5, 0, 5])\n",
    "plt.plot([0, 2, 2, 0, 0], [0, 0, 4, 2, 0])\n",
    "plt.plot([0, 2, 2, 0, 0], [0, 0, 4, 4, 0])"
   ]
  },
  {
   "cell_type": "code",
   "execution_count": 37,
   "metadata": {},
   "outputs": [
    {
     "data": {
      "text/plain": [
       "[<matplotlib.lines.Line2D at 0x1158e4a58>]"
      ]
     },
     "execution_count": 37,
     "metadata": {},
     "output_type": "execute_result"
    },
    {
     "data": {
      "image/png": "[encoded data removed]",
      "text/plain": [
       "<Figure size 288x288 with 1 Axes>"
      ]
     },
     "metadata": {
      "needs_background": "light"
     },
     "output_type": "display_data"
    }
   ],
   "source": [
    "# 長方形を２つに分けると，少し「誤差」が縮まる\n",
    "plt.figure(figsize=(4, 4))\n",
    "plt.axis([0, 5, 0, 5])\n",
    "plt.plot([0, 2, 2, 0, 0], [0, 0, 4, 2, 0])\n",
    "plt.plot([0, 1, 1, 0, 0], [0, 0, 3, 3, 0])\n",
    "plt.plot([1, 2, 2, 1, 1], [0, 0, 4, 4, 0])"
   ]
  },
  {
   "cell_type": "code",
   "execution_count": 39,
   "metadata": {},
   "outputs": [
    {
     "data": {
      "text/plain": [
       "3"
      ]
     },
     "execution_count": 39,
     "metadata": {},
     "output_type": "execute_result"
    }
   ],
   "source": [
    "a(1, 3) # オレンジ部分"
   ]
  },
  {
   "cell_type": "code",
   "execution_count": 40,
   "metadata": {},
   "outputs": [
    {
     "data": {
      "text/plain": [
       "4"
      ]
     },
     "execution_count": 40,
     "metadata": {},
     "output_type": "execute_result"
    }
   ],
   "source": [
    "a(1, 4) # 緑部分"
   ]
  },
  {
   "cell_type": "code",
   "execution_count": 41,
   "metadata": {},
   "outputs": [
    {
     "data": {
      "text/plain": [
       "7"
      ]
     },
     "execution_count": 41,
     "metadata": {},
     "output_type": "execute_result"
    }
   ],
   "source": [
    "a(1, 3) + a(1, 4)  # 2つを加える"
   ]
  },
  {
   "cell_type": "code",
   "execution_count": 42,
   "metadata": {},
   "outputs": [
    {
     "data": {
      "text/plain": [
       "6.5"
      ]
     },
     "execution_count": 42,
     "metadata": {},
     "output_type": "execute_result"
    }
   ],
   "source": [
    "# ４つに分けると，さらに正しい答えに近づく\n",
    "a(0.5, 2.5) + a(0.5, 3) + a(0.5, 3.5) + a(0.5, 4)"
   ]
  },
  {
   "cell_type": "markdown",
   "metadata": {},
   "source": [
    "入力大変。面倒くさい。"
   ]
  },
  {
   "cell_type": "markdown",
   "metadata": {},
   "source": [
    "## 果てしなく分ける"
   ]
  },
  {
   "cell_type": "markdown",
   "metadata": {},
   "source": [
    "台形を長方形に分割するときの，「たて - よこ」の関係。\n",
    "\n",
    "a(0.1, 2.1) + a(0.1, 2.2) + ... a(0.1, 3.9) + a(0.1, 4)\n",
    "\n",
    "・「よこ」が1増えると「たて」が1増える\n",
    "\n",
    "・上の1は0.1や0.001に置き換えても同じ\n",
    "\n",
    "y = x+2 ( 0 <= x <= 2)"
   ]
  },
  {
   "cell_type": "code",
   "execution_count": 47,
   "metadata": {},
   "outputs": [
    {
     "name": "stdout",
     "output_type": "stream",
     "text": [
      "0.0\n",
      "0.1\n",
      "0.2\n",
      "0.30000000000000004\n",
      "0.4\n",
      "0.5\n",
      "0.6000000000000001\n",
      "0.7000000000000001\n",
      "0.8\n",
      "0.9\n",
      "1.0\n",
      "1.1\n",
      "1.2000000000000002\n",
      "1.3\n",
      "1.4000000000000001\n",
      "1.5\n",
      "1.6\n",
      "1.7000000000000002\n",
      "1.8\n",
      "1.9000000000000001\n",
      "2.0\n"
     ]
    }
   ],
   "source": [
    "# たくさん関数や数字を入力するのは大変なので，繰り返し(ループ)を使う\n",
    "import numpy as np\n",
    "\n",
    "for d in np.arange(0, 2.1, 0.1):  # 0から2まで，0.1ずつ数字を増やしながら繰り返しを実行\n",
    "    print(d)  # 増えて行く数字を表示する"
   ]
  },
  {
   "cell_type": "code",
   "execution_count": 48,
   "metadata": {},
   "outputs": [
    {
     "name": "stdout",
     "output_type": "stream",
     "text": [
      "2.0\n",
      "2.1\n",
      "2.2\n",
      "2.3\n",
      "2.4\n",
      "2.5\n",
      "2.6\n",
      "2.7\n",
      "2.8\n",
      "2.9\n",
      "3.0\n",
      "3.1\n",
      "3.2\n",
      "3.3\n",
      "3.4000000000000004\n",
      "3.5\n",
      "3.6\n",
      "3.7\n",
      "3.8\n",
      "3.9000000000000004\n",
      "4.0\n"
     ]
    }
   ],
   "source": [
    "# 台形を分割した長方形の高さを計算する(y = x+2)\n",
    "\n",
    "for d in np.arange(0, 2.1, 0.1):\n",
    "    y = d+2\n",
    "    print(y)  # 「たて」を表示"
   ]
  },
  {
   "cell_type": "code",
   "execution_count": 49,
   "metadata": {},
   "outputs": [],
   "source": [
    "# 台形を分割した長方形の面積を合計する\n",
    "z = 0  # 面積の合計を足して行く変数\n",
    "for d in np.arange(0, 2.1, 0.1):\n",
    "    y = d+2\n",
    "    z = z + a(0.1, y) # 面積を計算，合計に足す"
   ]
  },
  {
   "cell_type": "code",
   "execution_count": 50,
   "metadata": {},
   "outputs": [
    {
     "data": {
      "text/plain": [
       "6.3"
      ]
     },
     "execution_count": 50,
     "metadata": {},
     "output_type": "execute_result"
    }
   ],
   "source": [
    "z"
   ]
  },
  {
   "cell_type": "code",
   "execution_count": 57,
   "metadata": {},
   "outputs": [],
   "source": [
    "# さらにたくさん分割する(10000分割)\n",
    "z = 0  # 面積の合計を足して行く変数\n",
    "for d in np.arange(0, 2.0001, 0.0001):\n",
    "    y = d+2\n",
    "    z = z + a(0.0001, y) # 面積を計算，合計に足す"
   ]
  },
  {
   "cell_type": "code",
   "execution_count": 58,
   "metadata": {},
   "outputs": [
    {
     "data": {
      "text/plain": [
       "6.000300000000004"
      ]
     },
     "execution_count": 58,
     "metadata": {},
     "output_type": "execute_result"
    }
   ],
   "source": [
    "z"
   ]
  },
  {
   "cell_type": "code",
   "execution_count": 74,
   "metadata": {},
   "outputs": [],
   "source": [
    "# 半径1の円の面積(10000分割)\n",
    "\n",
    "z = 0  # 面積の合計を足して行く変数\n",
    "for d in np.arange(0, 2.0001, 0.0001):\n",
    "    y = np.sqrt(1**2-(d-1)**2)*2\n",
    "    z = z + a(0.0001, y) # 面積を計算，合計に足す"
   ]
  },
  {
   "cell_type": "code",
   "execution_count": 75,
   "metadata": {},
   "outputs": [
    {
     "data": {
      "text/plain": [
       "3.1415914776113376"
      ]
     },
     "execution_count": 75,
     "metadata": {},
     "output_type": "execute_result"
    }
   ],
   "source": [
    "z"
   ]
  },
  {
   "cell_type": "markdown",
   "metadata": {},
   "source": [
    "# すごろくゲーム問題"
   ]
  },
  {
   "cell_type": "code",
   "execution_count": 78,
   "metadata": {},
   "outputs": [
    {
     "data": {
      "text/plain": [
       "5"
      ]
     },
     "execution_count": 78,
     "metadata": {},
     "output_type": "execute_result"
    }
   ],
   "source": [
    "# サイコロをふる\n",
    "from random import randint"
   ]
  },
  {
   "cell_type": "code",
   "execution_count": 82,
   "metadata": {},
   "outputs": [
    {
     "data": {
      "text/plain": [
       "4"
      ]
     },
     "execution_count": 82,
     "metadata": {},
     "output_type": "execute_result"
    }
   ],
   "source": [
    "randint(1, 6)  # サイコロを振って出た目を表示する"
   ]
  },
  {
   "cell_type": "code",
   "execution_count": 84,
   "metadata": {},
   "outputs": [],
   "source": [
    "a = 0  # Aさんが何マス進んだか(スタートは0)"
   ]
  },
  {
   "cell_type": "code",
   "execution_count": 90,
   "metadata": {},
   "outputs": [
    {
     "data": {
      "text/plain": [
       "22"
      ]
     },
     "execution_count": 90,
     "metadata": {},
     "output_type": "execute_result"
    }
   ],
   "source": [
    "#  サイコロを振ってコマを進める\n",
    "r = randint(1, 6)  # サイコロを振る\n",
    "a = a + r   # 降った目の数だけコマを進める \n",
    "a    # 進んだコマの数を表示する"
   ]
  },
  {
   "cell_type": "code",
   "execution_count": 91,
   "metadata": {},
   "outputs": [
    {
     "name": "stdout",
     "output_type": "stream",
     "text": [
      "ゴール\n"
     ]
    }
   ],
   "source": [
    "#  ゴールしたか(20コマ過ぎたか)を調べる\n",
    "if a > 20:\n",
    "    print(\"ゴール\")"
   ]
  },
  {
   "cell_type": "markdown",
   "metadata": {},
   "source": [
    "何回も実行するのは面倒。"
   ]
  },
  {
   "cell_type": "code",
   "execution_count": 92,
   "metadata": {},
   "outputs": [
    {
     "name": "stdout",
     "output_type": "stream",
     "text": [
      "6\n",
      "10\n",
      "13\n",
      "14\n",
      "17\n",
      "23\n"
     ]
    }
   ],
   "source": [
    "# ゴールするまでコマを進める\n",
    "a = 0  # Aさんが何マス進んだか(スタートは0)\n",
    "\n",
    "while a < 20:   # Aさんが進んだコマ数が20以下なら繰り返し\n",
    "    r = randint(1, 6)  # サイコロを振る\n",
    "    a = a + r   # 降った目の数だけコマを進める \n",
    "    print(a) # 進んだコマの数を表示する"
   ]
  },
  {
   "cell_type": "code",
   "execution_count": 93,
   "metadata": {},
   "outputs": [],
   "source": [
    "# AさんとBさんがどちらが勝ったかを決める\n",
    "a = 0   # Aさんが何マス進んだか(スタートは0)\n",
    "b = 0   # Bさんが何マス進んだか(スタートは0)\n",
    "\n",
    "# Aさん，Bさんがともに進んだコマ数が20以下なら繰り返し\n",
    "while a < 20 and b < 20:   \n",
    "    ra = randint(1, 6)  # サイコロを振る(Aさん)\n",
    "    a = a + ra   # 降った目の数だけコマを進める \n",
    "\n",
    "    rb = randint(1, 6)*2  # サイコロを振る(Bさん)\n",
    "    b = b + rb   # 降った目の数だけコマを進める \n"
   ]
  },
  {
   "cell_type": "code",
   "execution_count": 94,
   "metadata": {},
   "outputs": [
    {
     "data": {
      "text/plain": [
       "(7, 30)"
      ]
     },
     "execution_count": 94,
     "metadata": {},
     "output_type": "execute_result"
    }
   ],
   "source": [
    "a, b"
   ]
  },
  {
   "cell_type": "markdown",
   "metadata": {},
   "source": [
    "同じ手順を何度も繰り返したいので，関数を作る"
   ]
  },
  {
   "cell_type": "code",
   "execution_count": 121,
   "metadata": {},
   "outputs": [],
   "source": [
    "def which():\n",
    "    # AさんとBさんがどちらが勝ったかを決める\n",
    "    a = 0   # Aさんが何マス進んだか(スタートは0)\n",
    "    b = 0   # Bさんが何マス進んだか(スタートは0)\n",
    "\n",
    "    # Aさん，Bさんがともに進んだコマ数が20以下なら繰り返し\n",
    "    while a < 20 and b < 20:   \n",
    "        ra = randint(1, 6)  # サイコロを振る(Aさん)\n",
    "        a = a + ra   # 降った目の数だけコマを進める \n",
    "\n",
    "        rb = randint(1, 6)*2  # サイコロを振る(Bさん)\n",
    "        b = b + rb   # 降った目の数だけコマを進める \n",
    "\n",
    "    if a >= 20:  # Aさんが勝ち\n",
    "        return 1\n",
    "    if b >= 20: # Bさんが勝ち\n",
    "        return 2\n",
    "    "
   ]
  },
  {
   "cell_type": "code",
   "execution_count": 125,
   "metadata": {},
   "outputs": [
    {
     "data": {
      "text/plain": [
       "2"
      ]
     },
     "execution_count": 125,
     "metadata": {},
     "output_type": "execute_result"
    }
   ],
   "source": [
    "which()  # 1ならAさん、2ならBさんが勝ち"
   ]
  },
  {
   "cell_type": "markdown",
   "metadata": {},
   "source": [
    "これを何度も繰り返したい。"
   ]
  },
  {
   "cell_type": "code",
   "execution_count": 132,
   "metadata": {},
   "outputs": [],
   "source": [
    "w = which()   # 結果を変数で受け取る"
   ]
  },
  {
   "cell_type": "code",
   "execution_count": 133,
   "metadata": {},
   "outputs": [
    {
     "name": "stdout",
     "output_type": "stream",
     "text": [
      "Bさんの勝ち\n"
     ]
    }
   ],
   "source": [
    "# 結果によって振り分ける\n",
    "\n",
    "if w == 1:  # Aさんの勝ち\n",
    "    print('Aさんの勝ち')\n",
    "if w == 2:  # Bさんの勝ち\n",
    "    print('Bさんの勝ち')\n"
   ]
  },
  {
   "cell_type": "code",
   "execution_count": 138,
   "metadata": {},
   "outputs": [],
   "source": [
    "# 1000回繰り返して，結果を数える\n",
    "aw = 0   # Aさんが勝った回数\n",
    "bw = 0   # Bさんが勝った回数\n",
    "\n",
    "for i in range(1000):  # 1000回繰り返す\n",
    "    w = which()\n",
    "    if w == 1:\n",
    "        aw = aw + 1  # Aさんが勝った回数を1増やす\n",
    "    if w == 2:\n",
    "        bw = bw + 1  # Aさんが勝った回数を1増やす        "
   ]
  },
  {
   "cell_type": "code",
   "execution_count": 139,
   "metadata": {},
   "outputs": [
    {
     "data": {
      "text/plain": [
       "(56, 944)"
      ]
     },
     "execution_count": 139,
     "metadata": {},
     "output_type": "execute_result"
    }
   ],
   "source": [
    "aw, bw    # 結果を表示"
   ]
  },
  {
   "cell_type": "code",
   "execution_count": 140,
   "metadata": {},
   "outputs": [
    {
     "data": {
      "text/plain": [
       "16.857142857142858"
      ]
     },
     "execution_count": 140,
     "metadata": {},
     "output_type": "execute_result"
    }
   ],
   "source": [
    "bw/aw"
   ]
  },
  {
   "cell_type": "code",
   "execution_count": 143,
   "metadata": {},
   "outputs": [],
   "source": [
    "# 100万回繰り返して，結果を数える\n",
    "aw = 0   # Aさんが勝った回数\n",
    "bw = 0   # Bさんが勝った回数\n",
    "\n",
    "for i in range(1000000):  # 100万回繰り返す\n",
    "    w = which()\n",
    "    if w == 1:\n",
    "        aw = aw + 1  # Aさんが勝った回数を1増やす\n",
    "    if w == 2:\n",
    "        bw = bw + 1  # Aさんが勝った回数を1増やす        "
   ]
  },
  {
   "cell_type": "code",
   "execution_count": 144,
   "metadata": {},
   "outputs": [
    {
     "data": {
      "text/plain": [
       "(50229, 949771, 18.908817615321826)"
      ]
     },
     "execution_count": 144,
     "metadata": {},
     "output_type": "execute_result"
    }
   ],
   "source": [
    "aw, bw, bw/aw"
   ]
  },
  {
   "cell_type": "code",
   "execution_count": null,
   "metadata": {},
   "outputs": [],
   "source": []
  }
 ],
 "metadata": {
  "kernelspec": {
   "display_name": "Python 3",
   "language": "python",
   "name": "python3"
  },
  "language_info": {
   "codemirror_mode": {
    "name": "ipython",
    "version": 3
   },
   "file_extension": ".py",
   "mimetype": "text/x-python",
   "name": "python",
   "nbconvert_exporter": "python",
   "pygments_lexer": "ipython3",
   "version": "3.7.3"
  }
 },
 "nbformat": 4,
 "nbformat_minor": 2
}
